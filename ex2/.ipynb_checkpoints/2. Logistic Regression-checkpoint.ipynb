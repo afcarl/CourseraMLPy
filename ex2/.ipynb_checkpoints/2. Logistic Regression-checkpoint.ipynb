{
 "cells": [
  {
   "cell_type": "markdown",
   "metadata": {},
   "source": [
    "## Logistic Regression\n",
    "\n",
    "In this part of the exercise, we will build a logistic regression model to predict whether a student gets admitted into a university.\n",
    "\n",
    "Suppose that you are the administrator of a university department and\n",
    "you want to determine each applicant’s chance of admission based on their results on two exams. You have historical data from previous applicants that you can use as a training set for logistic regression. For each training example, you have the applicant’s scores on two exams and the admissions decision. Our task is to build a classification model that estimates an applicant's probability based on the scores from those two exams.\n",
    "\n",
    "###  Visualizing the data\n",
    "\n",
    "Before starting to implement any learning algorithm, it is always good to visualize the data if possible. "
   ]
  },
  {
   "cell_type": "code",
   "execution_count": 244,
   "metadata": {
    "collapsed": false,
    "scrolled": true
   },
   "outputs": [
    {
     "name": "stdout",
     "output_type": "stream",
     "text": [
      "Plotting the data with + indicating (y=1) examples and o indicating (y=0) examples.\n"
     ]
    },
    {
     "data": {
      "text/plain": [
       "<matplotlib.legend.Legend at 0x7fa14e8b3b50>"
      ]
     },
     "execution_count": 244,
     "metadata": {},
     "output_type": "execute_result"
    },
    {
     "data": {
      "image/png": "[encoded data removed]",
      "text/plain": [
       "<matplotlib.figure.Figure at 0x7fa14f2e0f90>"
      ]
     },
     "metadata": {},
     "output_type": "display_data"
    }
   ],
   "source": [
    "%matplotlib inline\n",
    "\n",
    "import numpy as np\n",
    "import matplotlib.pyplot as plt\n",
    "from scipy.optimize import fmin\n",
    "\n",
    "# Load data\n",
    "# The first two columns contains the exam scores and the third column contains the label.\n",
    "data = np.loadtxt(\"data/ex2data1.txt\",delimiter=\",\")\n",
    "X = data[:,:2]\n",
    "y = data[:,2]\n",
    "\n",
    "print \"Plotting the data with + indicating (y=1) examples and o indicating (y=0) examples.\"\n",
    "\n",
    "def plotData(X,y,reg=False):\n",
    "    '''Plots the data points with + for the positive examples and o for the negative examples.\n",
    "    X is assumed to be a Mx2 matrix.'''\n",
    "    # Find indices of positive and negative examples\n",
    "    pos = np.where(y==1)[0]\n",
    "    neg = np.where(y==0)[0]\n",
    "    \n",
    "    # Plot examples\n",
    "    if (reg):\n",
    "        plt.scatter(X[pos,0],X[pos,1],c='black',label='y=1',marker='+')\n",
    "        plt.scatter(X[neg,0],X[neg,1],c='y',label='y=0')\n",
    "        plt.xlabel(\"Microchip test 1\")\n",
    "        plt.ylabel(\"Microchip test 2\")\n",
    "    else:\n",
    "        plt.scatter(X[pos,0],X[pos,1],c='black',label='Admitted',marker='+')\n",
    "        plt.scatter(X[neg,0],X[neg,1],c='y',label='Not admitted')\n",
    "        plt.xlabel(\"Exam 1 score\")\n",
    "        plt.ylabel(\"Exam 2 score\")\n",
    "    \n",
    "\n",
    "plotData(X,y)\n",
    "plt.legend(loc=\"lower left\")"
   ]
  },
  {
   "cell_type": "markdown",
   "metadata": {},
   "source": [
    "### Implementation\n",
    "\n",
    "#### Warmup exercise: sigmoid function\n",
    "\n",
    "Before we start with the actual cost function, recall that the logistic regression hypothesis is define as:\n",
    "\n",
    "<center>$h_\\theta(x) = g(\\theta^Tx)$</center>\n",
    "\n",
    "where function $g$ is the sigmoid function. The sigmoid function is defined as:\n",
    "\n",
    "<center>$g(z) = \\frac{1}{1 + e^{-z}}$</center>\n",
    "\n",
    "Our first step is to implement the function ```sigmoid``` so that it can be called by the rest of the program."
   ]
  },
  {
   "cell_type": "code",
   "execution_count": 245,
   "metadata": {
    "collapsed": false
   },
   "outputs": [],
   "source": [
    "def sigmoid(z):\n",
    "    '''Computes the sigmoid of z'''\n",
    "    g = np.reciprocal(1+np.exp(-z))\n",
    "    \n",
    "    return g"
   ]
  },
  {
   "cell_type": "markdown",
   "metadata": {},
   "source": [
    "#### Cost function and gradient\n",
    "\n",
    "Now we will implement the cost function and gradient for logistic regression. Recall that the cost function in logistic regression is\n",
    "\n",
    "<center>$J(\\theta) = \\frac{1}{m} \\sum_{i=1}^m [-y^{(i)}log(h_\\theta(x^{(i)})) - (1-y^{(i)})log(1-h_\\theta(x^{(i)})]$</center>\n",
    "\n",
    "and the gradient of the cost is a vector of the same length as $\\theta$ where the $j^{th}$ element (for $j=0,1,...,n$) is defined as follows:\n",
    "\n",
    "<center>$\\frac{\\delta J(\\theta)}{\\delta\\theta_j} = \\frac{1}{m} \\sum_{i=1}^{m} (h_\\theta(x^{(i)}) - y^{(i)})x_j^{(i)}$</center>\n",
    "\n",
    "Note that while this gradient looks identical to the linear regression gradient, the formula is actually different because linear and logistic regression have different definitions of $h_\\theta(x)$."
   ]
  },
  {
   "cell_type": "code",
   "execution_count": 246,
   "metadata": {
    "collapsed": false
   },
   "outputs": [
    {
     "name": "stdout",
     "output_type": "stream",
     "text": [
      "Cost at initial theta: 0.693147\n",
      "Gradient at initial theta (zeros):\n",
      "[[ -0.1       ]\n",
      " [-12.00921659]\n",
      " [-11.26284221]]\n"
     ]
    }
   ],
   "source": [
    "def costFunction(theta,X,y):\n",
    "    '''Computes the cost of using theta as the parameter for logistic regression and the\n",
    "    graident of the cost with respect to the parameters.'''\n",
    "    h = sigmoid(np.dot(X,theta))\n",
    "    \n",
    "    J = (-np.dot(y.T,np.log(h)) - np.dot((1-y).T,np.log(1-h)))/m\n",
    "    \n",
    "    grad = np.dot(X.T,h-y)/m\n",
    "    \n",
    "    return (J,grad)\n",
    "\n",
    "def computeCost(theta,X,y):\n",
    "    '''Computes the cost of using theta as the parameter for logistic regression.(Copy for fmin)'''\n",
    "    h = sigmoid(np.dot(X,theta))\n",
    "    \n",
    "    J = (-np.dot(y.T,np.log(h)) - np.dot((1-y).T,np.log(1-h)))/m\n",
    "    \n",
    "    return J\n",
    "\n",
    "# Setup the data matrix appropriately and add ones for the intercept term\n",
    "m, n = np.shape(X)\n",
    "\n",
    "X = np.column_stack((np.ones((m,1)),X))\n",
    "y = np.reshape(y,(m,1))\n",
    "\n",
    "# Initialize fitting parameters\n",
    "initial_theta = np.zeros((n+1,1))\n",
    "\n",
    "# Compute and display initial cost and gradient\n",
    "cost, grad = costFunction(initial_theta,X,y)\n",
    "\n",
    "print(\"Cost at initial theta: %f\"%np.asscalar(cost))\n",
    "print(\"Gradient at initial theta (zeros):\")\n",
    "print grad"
   ]
  },
  {
   "cell_type": "markdown",
   "metadata": {},
   "source": [
    "#### Learning parameters using ```fmin```"
   ]
  },
  {
   "cell_type": "code",
   "execution_count": 247,
   "metadata": {
    "collapsed": false
   },
   "outputs": [
    {
     "name": "stdout",
     "output_type": "stream",
     "text": [
      "Optimization terminated successfully.\n",
      "         Current function value: 0.203498\n",
      "         Iterations: 157\n",
      "         Function evaluations: 287\n",
      "Cost at theta found by fmin: 0.203498\n",
      "Theta: \n",
      "[-25.16130062   0.20623142   0.20147143]\n"
     ]
    }
   ],
   "source": [
    "# Run fmin to obtain the optimal theta\n",
    "result = fmin(computeCost,x0=initial_theta,args=(X,y),maxiter=400,full_output=True)\n",
    "\n",
    "# Print theta to screen\n",
    "print(\"Cost at theta found by fmin: %f\"% result[1])\n",
    "print(\"Theta: \")\n",
    "print result[0]"
   ]
  },
  {
   "cell_type": "code",
   "execution_count": 248,
   "metadata": {
    "collapsed": false
   },
   "outputs": [
    {
     "name": "stdout",
     "output_type": "stream",
     "text": [
      "[28.05882244669796, 101.82785779692128]\n",
      "[ 96.16594241  20.65402948]\n"
     ]
    },
    {
     "data": {
      "text/plain": [
       "<matplotlib.legend.Legend at 0x7fa14e8c21d0>"
      ]
     },
     "execution_count": 248,
     "metadata": {},
     "output_type": "execute_result"
    },
    {
     "data": {
      "image/png": "[encoded data removed]",
      "text/plain": [
       "<matplotlib.figure.Figure at 0x7fa14efaac50>"
      ]
     },
     "metadata": {},
     "output_type": "display_data"
    }
   ],
   "source": [
    "def plotDecisionBoundary(theta,X,y):\n",
    "    '''Plots the data points X and y into a new figure with the decision boundary defined by theta'''\n",
    "    plotData(X[:,[1,2]],y)\n",
    "    plt.hold(True)\n",
    "    \n",
    "    if X.shape[1] <= 3:\n",
    "        # Only need 2 points to define a line, so choose two endpoints\n",
    "        plot_x = [min(X[:,1])-2,max(X[:,1])+2]\n",
    "        \n",
    "        # Calculate the decision boundary line\n",
    "        plot_y = np.dot(-np.reciprocal(theta[2]),np.dot(theta[1],plot_x)+ theta[0]) \n",
    "        \n",
    "        plt.plot(plot_x,plot_y,label=\"Decision boundary\")\n",
    "        \n",
    "        print plot_x\n",
    "        print plot_y\n",
    "    \n",
    "    else:\n",
    "        u = np.linspace(-1,1.5,50)\n",
    "        v = np.linspace(-1,1.5,50)\n",
    "        \n",
    "        z = np.zeros((len(u),len(v)))\n",
    "        \n",
    "        for i in range(len(u)):\n",
    "            for j in range(len(v)):\n",
    "                z[i,j] = np.dot(mapFeature(u[i],v[j]),theta)\n",
    "        \n",
    "        z = z.T\n",
    "        \n",
    "        plt.contour(u,v,z,[0])\n",
    "    \n",
    "\n",
    "# Plot boundary\n",
    "plotDecisionBoundary(result[0],X,y)\n",
    "plt.legend(loc=\"lower left\")"
   ]
  },
  {
   "cell_type": "markdown",
   "metadata": {},
   "source": [
    "#### Evaluating logistic regression\n",
    "\n",
    "After learning the parameters, you can use the model to predict whether a particular student will be admitted."
   ]
  },
  {
   "cell_type": "code",
   "execution_count": 249,
   "metadata": {
    "collapsed": false
   },
   "outputs": [
    {
     "name": "stdout",
     "output_type": "stream",
     "text": [
      "For a student with scores 45 and 85, we predict an admission probability of 0.776292\n",
      "Training accuracy: 89.000000\n"
     ]
    }
   ],
   "source": [
    "prob = sigmoid(np.dot([1, 45, 85],result[0]))\n",
    "\n",
    "print(\"For a student with scores 45 and 85, we predict an admission probability of %f\"% prob)\n",
    "\n",
    "def predict(theta,X):\n",
    "    '''Predict whether the label is 0 or 1 using learned regression parameters theta.\n",
    "    Uses a threshold at 0.5 (i.e. if sigmoid(theta.T*x) >= 0.5, predict 1)'''\n",
    "    \n",
    "    m = X.shape[0]\n",
    "    \n",
    "    p = np.zeros((m,1))\n",
    "    \n",
    "    p = sigmoid(np.dot(X,theta)) >= 0.5\n",
    "    \n",
    "    return p\n",
    "\n",
    "# Compute accuracy on our training set\n",
    "\n",
    "p = np.reshape(1*predict(result[0],X),y.shape)\n",
    "\n",
    "print(\"Training accuracy: %f\"%(mean(1*(p==y))*100))"
   ]
  },
  {
   "cell_type": "markdown",
   "metadata": {},
   "source": [
    "## Regularized logistic regression\n",
    "\n",
    "In this part of the exercise, you will implement regularized logistic regression to predict whether microchips from a fabrication plant passes quality assurance (QA). During QA, each microchip goes through various tests to ensure that it is functioning correctly.\n",
    "\n",
    "Suppose you are the product manager of the factory and you have the test results for some microchips on two different tests. From these two tests, you would like to determine whether the microchips should be accepted or rejected. To help you make the decision, you have a dataset of test results on past microchips, from which we can build a logistic regression model."
   ]
  },
  {
   "cell_type": "code",
   "execution_count": 250,
   "metadata": {
    "collapsed": false
   },
   "outputs": [
    {
     "data": {
      "text/plain": [
       "<matplotlib.legend.Legend at 0x7fa14eafaed0>"
      ]
     },
     "execution_count": 250,
     "metadata": {},
     "output_type": "execute_result"
    },
    {
     "data": {
      "image/png": "[encoded data removed]",
      "text/plain": [
       "<matplotlib.figure.Figure at 0x7fa14e7f6a90>"
      ]
     },
     "metadata": {},
     "output_type": "display_data"
    }
   ],
   "source": [
    "# Load data\n",
    "data = np.loadtxt(\"data/ex2data2.txt\",delimiter=\",\")\n",
    "X = data[:,:2]\n",
    "y = data[:,2]\n",
    "\n",
    "plotData(X,y,reg=True)\n",
    "plt.legend()"
   ]
  },
  {
   "cell_type": "markdown",
   "metadata": {},
   "source": [
    "The above figure shows that our dataset cannot be separated into positive and negative examples by a straight-line through the plot. Therefore, a straightforward application of logistic regression will not perform well on this dataset since logistic regression will only be able to find a linear decision boundary.\n",
    "\n",
    "### Feature mapping\n",
    "\n",
    "One way to fit the data better is to create more features from each data point. In the function ```mapFeature```, we will map the features into all polynomial terms of $x_1$ and $x_2$ up to the sixth power.\n",
    "\n",
    "As a result of this mapping, our vector of two features (the scores on two QA tests) have been transformed into a 28-dimensional vector. A logistic regression classifier trained on this higher-dimension feature vector will have a more complex decision boundary and will appear non linear when drawn in our 2-dimensional plot.\n",
    "\n",
    "While the feature mapping allows us to build a more expressive classifier, it is also more susceptible to overfitting. In the next parts of the exercise, we will implement regularized logistic regression to fit the data and also see for ourselves how regularization can help combat the overfitting problem."
   ]
  },
  {
   "cell_type": "code",
   "execution_count": 251,
   "metadata": {
    "collapsed": false
   },
   "outputs": [],
   "source": [
    "def mapFeature(X1,X2):\n",
    "    '''Feature mapping function to polynomial features'''\n",
    "    degree = 6\n",
    "    \n",
    "    out = np.ones((X1.shape))\n",
    "    \n",
    "    for i in range(1,degree+1):\n",
    "        for j in range(i+1):\n",
    "            out = np.column_stack((out,X1**(i-j)*X2**(j)))\n",
    "    \n",
    "    return out\n",
    "    \n",
    "m,n = X.shape\n",
    "\n",
    "# Add polynomial features\n",
    "X = mapFeature(X[:,0].reshape((m,1)),X[:,1].reshape((m,1)))\n",
    "y = y.reshape((m,1))\n",
    "\n",
    "# Initialize fitting parameters\n",
    "initial_theta = zeros((np.shape(X)[1],1))"
   ]
  },
  {
   "cell_type": "markdown",
   "metadata": {},
   "source": [
    "## Cost function and gradient\n",
    "\n",
    "Now we will implement code to compute the cost function and gradient for regularized logistic regression. \n",
    "\n",
    "Recall that the regularized cost function in logistic regression is:\n",
    "\n",
    "<center>$J(\\theta) = \\frac{1}{m} \\sum_{i=1}^m [-y^{(i)}log(h_\\theta(x^{(i)})) - (1-y^{(i)})log(1-h_\\theta(x^{(i)})] + \\frac{\\lambda}{2m} \\sum_{j=1}^{m}\\theta_j^2$</center>\n",
    "\n",
    "The gradient of the cost function is a vector where the $j^{th}$ element is defined as follows.\n",
    "\n",
    "<center>$\\frac{\\delta J(\\theta)}{\\delta\\theta_j} = \\frac{1}{m} \\sum_{i=1}^{m} (h_\\theta(x^{(i)}) - y^{(i)})x_j^{(i)}$ for $j=0$</center>\n",
    "\n",
    "<center>$(\\frac{\\delta J(\\theta)}{\\delta\\theta_j} = \\frac{1}{m} \\sum_{i=1}^{m} (h_\\theta(x^{(i)}) - y^{(i)})x_j^{(i)}) + \\frac{\\lambda}{m} \\theta_j$ for $j\\geq1$</center>\n"
   ]
  },
  {
   "cell_type": "code",
   "execution_count": 252,
   "metadata": {
    "collapsed": false
   },
   "outputs": [
    {
     "name": "stdout",
     "output_type": "stream",
     "text": [
      "Cost at initial theta: 0.693147\n"
     ]
    }
   ],
   "source": [
    "def costFunctionReg(theta,X,y,lamda):\n",
    "    '''Compute cost and gradient for logistic regression using theta as the parameters with regularization and \n",
    "    gradient of the cost w.r.t. the parameters'''\n",
    "    grad = np.zeros(theta.shape)\n",
    "    \n",
    "    h = sigmoid(np.dot(X,theta))\n",
    "    \n",
    "    J = (-np.dot(y.T,np.log(h)) - np.dot((1-y).T,np.log(1-h)))/m + (lamda*np.dot(theta[1:].T,theta[1:]))/(2*m)\n",
    "    \n",
    "    grad[0] = np.dot(X[:,[0]].T,h-y)/m\n",
    "    \n",
    "    grad[1:] = np.dot(X[:,1:].T,h-y)/m + (lamda * theta[1:])/m\n",
    "    \n",
    "    return J,grad\n",
    "\n",
    "def computeCostReg(theta,X,y,lamda):\n",
    "    '''Compute cost for logistic regression using theta as the parameters with regularization (copy for fmin)'''\n",
    "    h = sigmoid(np.dot(X,theta))\n",
    "    \n",
    "    J = (-np.dot(y.T,np.log(h)) - np.dot((1-y).T,np.log(1-h)))/m + (lamda*np.dot(theta[1:].T,theta[1:]))/(2*m)\n",
    "    \n",
    "    return J\n",
    "\n",
    "# Set regularization parameter lamda to 1\n",
    "lamda = 1\n",
    "\n",
    "cost, grad = costFunctionReg(initial_theta,X,y,lamda)\n",
    "\n",
    "print(\"Cost at initial theta: %f\"%cost)"
   ]
  },
  {
   "cell_type": "markdown",
   "metadata": {},
   "source": [
    "#### Learning parameters using ```fmin```"
   ]
  },
  {
   "cell_type": "code",
   "execution_count": 253,
   "metadata": {
    "collapsed": false
   },
   "outputs": [
    {
     "name": "stdout",
     "output_type": "stream",
     "text": [
      "Warning: Maximum number of iterations has been exceeded.\n"
     ]
    },
    {
     "data": {
      "image/png": "[encoded data removed]",
      "text/plain": [
       "<matplotlib.figure.Figure at 0x7fa14ec45110>"
      ]
     },
     "metadata": {},
     "output_type": "display_data"
    }
   ],
   "source": [
    "# Run fmin to obtain the optimal theta\n",
    "result = fmin(computeCostReg,x0=initial_theta,args=(X,y,lamda),maxiter=400,full_output=True)\n",
    "\n",
    "# Plot boundary\n",
    "plotDecisionBoundary(result[0],X,y)"
   ]
  }
 ],
 "metadata": {
  "kernelspec": {
   "display_name": "Python 2",
   "language": "python",
   "name": "python2"
  },
  "language_info": {
   "codemirror_mode": {
    "name": "ipython",
    "version": 2
   },
   "file_extension": ".py",
   "mimetype": "text/x-python",
   "name": "python",
   "nbconvert_exporter": "python",
   "pygments_lexer": "ipython2",
   "version": "2.7.6"
  }
 },
 "nbformat": 4,
 "nbformat_minor": 0
}
